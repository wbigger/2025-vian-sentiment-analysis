{
  "nbformat": 4,
  "nbformat_minor": 0,
  "metadata": {
    "colab": {
      "provenance": [],
      "gpuType": "T4",
      "authorship_tag": "ABX9TyP/jX0f+IJHivzVlgNXSeSN",
      "include_colab_link": true
    },
    "kernelspec": {
      "name": "python3",
      "display_name": "Python 3"
    },
    "language_info": {
      "name": "python"
    },
    "accelerator": "GPU"
  },
  "cells": [
    {
      "cell_type": "markdown",
      "metadata": {
        "id": "view-in-github",
        "colab_type": "text"
      },
      "source": [
        "<a href=\"https://colab.research.google.com/github/wbigger/2025-vian-sentiment-analysis/blob/main/sentiment_analysis_training.ipynb\" target=\"_parent\"><img src=\"https://colab.research.google.com/assets/colab-badge.svg\" alt=\"Open In Colab\"/></a>"
      ]
    },
    {
      "cell_type": "markdown",
      "source": [
        "# Load dataset"
      ],
      "metadata": {
        "id": "a9bzExJ8kHKO"
      }
    },
    {
      "cell_type": "markdown",
      "source": [
        "Create a secret variable named \"gh_username\" with your github/huggingface username"
      ],
      "metadata": {
        "id": "c9Uk3MI4wBP5"
      }
    },
    {
      "cell_type": "code",
      "source": [
        "from google.colab import userdata\n",
        "username = userdata.get('gh_username')\n",
        "print(username)"
      ],
      "metadata": {
        "id": "pHWGMJ6mvcZT"
      },
      "execution_count": null,
      "outputs": []
    },
    {
      "cell_type": "code",
      "source": [
        "!pip install transformers datasets"
      ],
      "metadata": {
        "id": "EnH-Ms0_vtIZ"
      },
      "execution_count": null,
      "outputs": []
    },
    {
      "cell_type": "code",
      "execution_count": null,
      "metadata": {
        "id": "_S5kmnuKjxET"
      },
      "outputs": [],
      "source": [
        "from datasets import load_dataset\n",
        "\n",
        "# Change the username with yours\n",
        "dataset = load_dataset(f\"{username}/sentiment-analysis-test\")\n"
      ]
    },
    {
      "cell_type": "markdown",
      "source": [
        "# Tokenize"
      ],
      "metadata": {
        "id": "M0C5FneRkhs0"
      }
    },
    {
      "cell_type": "code",
      "source": [
        "# Add label column to dataset\n",
        "\n",
        "label2id = {\"negative\": 0, \"neutral\": 1, \"positive\": 2}\n",
        "\n",
        "def add_label_column(examples):\n",
        "    examples[\"label\"] = label2id[examples[\"sentiment\"]]\n",
        "    return examples\n",
        "\n",
        "dataset = dataset.map(add_label_column)\n",
        "print(dataset)\n"
      ],
      "metadata": {
        "id": "c17W2KVtpk52"
      },
      "execution_count": null,
      "outputs": []
    },
    {
      "cell_type": "code",
      "source": [
        "from transformers import AutoTokenizer, DataCollatorWithPadding\n",
        "\n",
        "tokenizer = AutoTokenizer.from_pretrained(\"cardiffnlp/xlm-roberta-base-tweet-sentiment-it\")\n",
        "\n",
        "def tokenize_function(examples):\n",
        "    return tokenizer(examples[\"text\"], truncation=True, max_length=128)\n",
        "\n",
        "tokenized_dataset = dataset.map(tokenize_function, batched=True)\n",
        "data_collator = DataCollatorWithPadding(tokenizer=tokenizer)\n",
        "print(tokenized_dataset)\n"
      ],
      "metadata": {
        "id": "Y1P0cqK0kJJH"
      },
      "execution_count": null,
      "outputs": []
    },
    {
      "cell_type": "markdown",
      "source": [
        "# Fine tuning a pre-trained model"
      ],
      "metadata": {
        "id": "xcVHUwrbmwm4"
      }
    },
    {
      "cell_type": "code",
      "source": [
        "from transformers import AutoModelForSequenceClassification\n",
        "\n",
        "checkpoint = \"cardiffnlp/xlm-roberta-base-tweet-sentiment-it\"\n",
        "model = AutoModelForSequenceClassification.from_pretrained(checkpoint, num_labels=3)"
      ],
      "metadata": {
        "id": "NgAfrB5mm2Cz"
      },
      "execution_count": null,
      "outputs": []
    },
    {
      "cell_type": "code",
      "source": [
        "# Create training parameters\n",
        "\n",
        "from transformers import TrainingArguments\n",
        "\n",
        "training_args = TrainingArguments(\"sentiment-analysis-test\")\n",
        "\n"
      ],
      "metadata": {
        "id": "_SkvQbhmk-6C"
      },
      "execution_count": null,
      "outputs": []
    },
    {
      "cell_type": "code",
      "source": [
        "# Create trainer\n",
        "\n",
        "from transformers import Trainer\n",
        "\n",
        "trainer = Trainer(\n",
        "    model,\n",
        "    training_args,\n",
        "    train_dataset=tokenized_dataset[\"train\"],\n",
        "    eval_dataset=tokenized_dataset[\"test\"],\n",
        "    data_collator=data_collator\n",
        ")"
      ],
      "metadata": {
        "id": "KWa9G8temPkm"
      },
      "execution_count": null,
      "outputs": []
    },
    {
      "cell_type": "code",
      "source": [
        "# Train the model\n",
        "\n",
        "trainer.train()"
      ],
      "metadata": {
        "id": "UYg4ZfZNnlCI"
      },
      "execution_count": null,
      "outputs": []
    },
    {
      "cell_type": "code",
      "source": [
        "# Push the new model to the hub\n",
        "trainer.push_to_hub()\n"
      ],
      "metadata": {
        "id": "376e4Mowq7Tm"
      },
      "execution_count": null,
      "outputs": []
    },
    {
      "cell_type": "markdown",
      "source": [
        "# Evaluate!"
      ],
      "metadata": {
        "id": "WLN5zZIOsA_2"
      }
    },
    {
      "cell_type": "code",
      "source": [
        "from transformers import pipeline, AutoModelForSequenceClassification\n",
        "\n",
        "# Load and test the original model\n",
        "sentiment_pipeline_orig = pipeline(\"sentiment-analysis\", model=\"cardiffnlp/xlm-roberta-base-tweet-sentiment-it\")\n",
        "\n",
        "prompt = \"Personale docente\"\n",
        "print(f\"Sentiment for prompt {prompt}:\")\n",
        "print(sentiment_pipeline_orig(prompt))\n",
        "\n",
        "\n",
        "prompt = \"Interrogazioni a sorpresa\"\n",
        "print(f\"Sentiment for prompt {prompt}:\")\n",
        "print(sentiment_pipeline_orig(prompt))"
      ],
      "metadata": {
        "id": "M-wsCD6isAHl"
      },
      "execution_count": null,
      "outputs": []
    },
    {
      "cell_type": "code",
      "source": [
        "from transformers import pipeline, AutoModelForSequenceClassification\n",
        "\n",
        "# Load and test our model\n",
        "sentiment_pipeline = pipeline(\"sentiment-analysis\", model=f\"{username}/sentiment-analysis-test\")\n",
        "\n",
        "prompt = \"Personale docente\"\n",
        "\n",
        "print(f\"Sentiment for prompt {prompt}:\")\n",
        "print(sentiment_pipeline(prompt))\n",
        "\n",
        "prompt = \"Interrogazioni a sorpresa\"\n",
        "print(f\"Sentiment for prompt {prompt}:\")\n",
        "print(sentiment_pipeline(prompt))"
      ],
      "metadata": {
        "id": "snoNBZ9Sh0c6"
      },
      "execution_count": null,
      "outputs": []
    },
    {
      "cell_type": "markdown",
      "source": [
        "# Gradio interface"
      ],
      "metadata": {
        "id": "rotO4Zwdsl_1"
      }
    },
    {
      "cell_type": "code",
      "source": [
        "!pip install gradio"
      ],
      "metadata": {
        "id": "kBXJ_x5vs8HO"
      },
      "execution_count": null,
      "outputs": []
    },
    {
      "cell_type": "code",
      "source": [
        "import gradio as gr\n",
        "\n",
        "# Load and test our model\n",
        "sentiment_pipeline = pipeline(\"sentiment-analysis\", model=f\"{username}/sentiment-analysis-test\")\n",
        "\n",
        "def analyze_sentiment(text):\n",
        "    result = sentiment_pipeline(text)\n",
        "    label = result[0]['label']\n",
        "    score = result[0]['score']\n",
        "    return f\"Label: {label}, Score: {score}\"\n",
        "\n",
        "iface = gr.Interface(\n",
        "    fn=analyze_sentiment,\n",
        "    inputs=gr.Textbox(label=\"Prompt\", lines=2, placeholder=\"Scrivi qui qualcosa sulla tua scuola...\"),\n",
        "    outputs=gr.Textbox(label=\"Sentiment Analysis Result\"),\n",
        "    title=\"Sentiment Analysis for VIAN\",\n",
        "    description=\"Analizza i sentimenti riguardo alla tua scuola con un modello fine-tuned\",\n",
        ")\n",
        "\n",
        "iface.launch()\n"
      ],
      "metadata": {
        "id": "cbcYi36ptAK2"
      },
      "execution_count": null,
      "outputs": []
    }
  ]
}