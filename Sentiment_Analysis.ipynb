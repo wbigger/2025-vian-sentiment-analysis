{
  "nbformat": 4,
  "nbformat_minor": 0,
  "metadata": {
    "colab": {
      "provenance": [],
      "toc_visible": true,
      "authorship_tag": "ABX9TyNbca9kPe6PhCDV1SUgWm6Y",
      "include_colab_link": true
    },
    "kernelspec": {
      "name": "python3",
      "display_name": "Python 3"
    },
    "language_info": {
      "name": "python"
    }
  },
  "cells": [
    {
      "cell_type": "markdown",
      "metadata": {
        "id": "view-in-github",
        "colab_type": "text"
      },
      "source": [
        "<a href=\"https://colab.research.google.com/github/wbigger/2025-vian-sentiment-analysis/blob/main/Sentiment_Analysis.ipynb\" target=\"_parent\"><img src=\"https://colab.research.google.com/assets/colab-badge.svg\" alt=\"Open In Colab\"/></a>"
      ]
    },
    {
      "cell_type": "markdown",
      "source": [],
      "metadata": {
        "id": "eSPUWwbtXzk8"
      }
    },
    {
      "cell_type": "markdown",
      "source": [
        "# Create dataset"
      ],
      "metadata": {
        "id": "reN2DZLiX2tZ"
      }
    },
    {
      "cell_type": "code",
      "execution_count": null,
      "metadata": {
        "id": "oZJLrgieWinZ"
      },
      "outputs": [],
      "source": [
        "!pip install transformers datasets"
      ]
    },
    {
      "cell_type": "code",
      "source": [
        "from datasets import load_dataset"
      ],
      "metadata": {
        "id": "PL5E9-CyXMfT"
      },
      "execution_count": null,
      "outputs": []
    },
    {
      "cell_type": "code",
      "source": [
        "v01_files = [\"v01/m00 - m00-1.csv\",\n",
        "    \"v01/m00 - m00-2.csv\",\n",
        "    \"v01/m00 - m00-3.csv\",\n",
        "    \"v01/m00 - m00-4.csv\",\n",
        "    \"v01/m01 - m01-1.csv\",\n",
        "    \"v01/m02 - m02-1.csv\",\n",
        "    \"v01/m03 - m03-1.csv\",\n",
        "    \"v01/m04 - m04-1.csv\"]\n",
        "dataset = load_dataset(\"csv\",data_files=v01_files)"
      ],
      "metadata": {
        "id": "HHDcQTkoXI4U"
      },
      "execution_count": null,
      "outputs": []
    },
    {
      "cell_type": "code",
      "source": [
        "sample = dataset[\"train\"].shuffle(seed=42).select(range(10))\n",
        "print(sample[:3])"
      ],
      "metadata": {
        "id": "UrtKHRUAXcqC"
      },
      "execution_count": null,
      "outputs": []
    },
    {
      "cell_type": "code",
      "source": [
        "dataset_clean = dataset[\"train\"].train_test_split(train_size=0.8, seed=42)"
      ],
      "metadata": {
        "id": "eM1yOr0-Xg2h"
      },
      "execution_count": null,
      "outputs": []
    },
    {
      "cell_type": "code",
      "source": [
        "dataset_clean.save_to_disk('v01/dataset_clean')"
      ],
      "metadata": {
        "id": "LRtFYvqCXjhR"
      },
      "execution_count": null,
      "outputs": []
    },
    {
      "cell_type": "markdown",
      "source": [
        "# Upload dataset"
      ],
      "metadata": {
        "id": "JgzoUqAIXxYw"
      }
    },
    {
      "cell_type": "code",
      "source": [
        "from huggingface_hub import notebook_login\n",
        "notebook_login()"
      ],
      "metadata": {
        "id": "YxzaE1KMYPKg"
      },
      "execution_count": null,
      "outputs": []
    },
    {
      "cell_type": "code",
      "source": [
        "dataset_clean.push_to_hub(\"sentiment-analysis-test\")"
      ],
      "metadata": {
        "id": "XfmtCnA9snUW"
      },
      "execution_count": null,
      "outputs": []
    },
    {
      "cell_type": "markdown",
      "source": [
        "# Tokenize it!"
      ],
      "metadata": {
        "id": "AqoA4rs_3nZm"
      }
    },
    {
      "cell_type": "code",
      "source": [
        "from transformers import AutoTokenizer\n",
        "from datasets import load_from_disk\n",
        "\n",
        "dataset = load_from_disk(\"v01/dataset_clean\")\n",
        "\n",
        "tokenizer = AutoTokenizer.from_pretrained(\"MilaNLProc/feel-it-italian-sentiment\")\n",
        "\n"
      ],
      "metadata": {
        "id": "uEPGCdPp3rxD"
      },
      "execution_count": null,
      "outputs": []
    },
    {
      "cell_type": "code",
      "source": [
        "def tokenize_function(examples):\n",
        "    return tokenizer(examples[\"text\"], truncation=True, max_length=128)"
      ],
      "metadata": {
        "id": "bn-dR0Gz3vNq"
      },
      "execution_count": null,
      "outputs": []
    },
    {
      "cell_type": "code",
      "source": [
        "tokenized_dataset = dataset.map(tokenize_function, batched=True)\n",
        "print(tokenized_dataset)"
      ],
      "metadata": {
        "id": "7SgW1xLd3wbM"
      },
      "execution_count": null,
      "outputs": []
    }
  ]
}